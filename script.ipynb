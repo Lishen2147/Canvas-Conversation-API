{
 "cells": [
  {
   "cell_type": "code",
   "execution_count": null,
   "metadata": {},
   "outputs": [],
   "source": [
    "# !pip3 install requests\n",
    "# !pip3 install python-dotenv\n",
    "# !pip3 install gspread\n",
    "# !pip3 install oauth2client\n",
    "# !pip3 install google-api-python-client"
   ]
  },
  {
   "cell_type": "code",
   "execution_count": null,
   "metadata": {},
   "outputs": [],
   "source": [
    "import os\n",
    "import requests\n",
    "import gspread\n",
    "import datetime\n",
    "from oauth2client.service_account import ServiceAccountCredentials\n",
    "from googleapiclient.discovery import build\n",
    "from dotenv import load_dotenv"
   ]
  },
  {
   "cell_type": "code",
   "execution_count": null,
   "metadata": {},
   "outputs": [],
   "source": [
    "load_dotenv('.env')"
   ]
  },
  {
   "cell_type": "markdown",
   "metadata": {},
   "source": [
    "# Retrieve Canvas Inbox starred messages (conversations)"
   ]
  },
  {
   "cell_type": "code",
   "execution_count": null,
   "metadata": {},
   "outputs": [],
   "source": [
    "# Replace with your Canvas API token\n",
    "access_token = os.getenv('CANVAS_ACCESS_TOKEN')\n",
    "base_url = os.getenv('CANVAS_BASE_URL')\n",
    "\n",
    "# Headers for authentication\n",
    "headers = {\n",
    "    'Authorization': f'Bearer {access_token}'\n",
    "}\n",
    "\n",
    "# Parameters to control pagination\n",
    "params = {\n",
    "    'per_page': 50  # Adjust this number as needed, up to the maximum allowed by the API\n",
    "}"
   ]
  },
  {
   "cell_type": "code",
   "execution_count": null,
   "metadata": {},
   "outputs": [],
   "source": [
    "conversations_response = requests.get(f'{base_url}/conversations', headers=headers, params=params)\n",
    "conversations = conversations_response.json()\n",
    "\n",
    "# List to store all messages with sender names\n",
    "sender_data = []\n",
    "\n",
    "# Get sender names from starred conversations and set status to False\n",
    "for conversation in conversations:\n",
    "    if conversation[\"starred\"]:\n",
    "        sender_name = conversation[\"participants\"][0][\"name\"]\n",
    "        sender_data.append([sender_name])  # Appending [sender_name, False] to sender_data\n",
    "\n",
    "print(\"Number of starred conversations: \", len(sender_data))\n",
    "print(sender_data)  # Print sender data for testing"
   ]
  },
  {
   "cell_type": "markdown",
   "metadata": {},
   "source": [
    "# Save result into Google Sheet"
   ]
  },
  {
   "cell_type": "code",
   "execution_count": null,
   "metadata": {},
   "outputs": [],
   "source": [
    "def append_checkbox(creds, spreadsheet, worksheet, total_rows):\n",
    "\n",
    "    # Create a service object for the Google Sheets API\n",
    "    service = build('sheets', 'v4', credentials=creds)\n",
    "\n",
    "    # Update the header of the checkbox column to \"Replied?\"\n",
    "    worksheet.update_cell(1, 2, 'Replied?')  # Assuming the checkbox column is column B (index 2)\n",
    "\n",
    "    # Add checkboxes to the column\n",
    "    service.spreadsheets().batchUpdate(spreadsheetId=spreadsheet.id, body={\n",
    "        'requests': [\n",
    "            {\n",
    "                'repeatCell': {\n",
    "                    'cell': {\n",
    "                        'dataValidation': {\n",
    "                            'condition': {'type': 'BOOLEAN'},\n",
    "                            'showCustomUi': True\n",
    "                        }\n",
    "                    },\n",
    "                    'range': {\n",
    "                        'sheetId': worksheet.id,\n",
    "                        'startRowIndex': 1,  # Skip the header row\n",
    "                        'endRowIndex': total_rows + 1,\n",
    "                        'startColumnIndex': 1,  # Column B\n",
    "                        'endColumnIndex': 2\n",
    "                    },\n",
    "                    'fields': 'dataValidation'\n",
    "                }\n",
    "            }\n",
    "        ]\n",
    "    }).execute()"
   ]
  },
  {
   "cell_type": "code",
   "execution_count": null,
   "metadata": {},
   "outputs": [],
   "source": [
    "def append_data(sender_data, worksheet, spreadsheet, creds):\n",
    "\n",
    "    # Collect all existing sender data from all other worksheets\n",
    "    all_existing_senders = set()\n",
    "    for sheet in spreadsheet.worksheets():\n",
    "        if sheet.title != worksheet.title:\n",
    "            existing_data = sheet.get_all_values()\n",
    "            existing_senders = [row[0] for row in existing_data if row]  # Assuming sender names are in the first column\n",
    "            all_existing_senders.update(existing_senders)\n",
    "\n",
    "    # Write column headers if the sheet is empty\n",
    "    if worksheet.get_all_values():\n",
    "        worksheet.append_row(['Sender Name'])\n",
    "\n",
    "    # Write sender data to the worksheet\n",
    "    num_breaker = 0\n",
    "    num_added = 0\n",
    "    total_line = 0\n",
    "    num_to_add = len(sender_data)\n",
    "    person_to_assign = 7\n",
    "    breaker_row = ['******* Finished my part? *******']\n",
    "    for sender in sender_data:\n",
    "        if sender[0] not in all_existing_senders:\n",
    "            worksheet.append_row(sender)  # Writing sender data\n",
    "            print(\"Added\", sender[0])\n",
    "            num_added += 1\n",
    "            total_line += 1\n",
    "            # Add the breaker row after every 7 rows\n",
    "            if (person_to_assign > 0) and (num_added % round(num_to_add / person_to_assign)) == 0:\n",
    "                worksheet.append_row(breaker_row)\n",
    "                print(\"Added breaker row **********\")\n",
    "                num_to_add -= round(num_to_add / person_to_assign)\n",
    "                person_to_assign -= 1\n",
    "                num_breaker += 1\n",
    "                total_line += 1\n",
    "        else:\n",
    "            print(f\"Skipped {sender[0]} (already exists)\")\n",
    "\n",
    "    print(\"Total breaker row(s) added:\", num_breaker)\n",
    "\n",
    "    # Set the width of the first column\n",
    "    service = build('sheets', 'v4', credentials=creds)\n",
    "    request = {\n",
    "        'requests': [\n",
    "            {\n",
    "                'updateDimensionProperties': {\n",
    "                    'range': {\n",
    "                        'sheetId': worksheet.id,\n",
    "                        'dimension': 'COLUMNS',\n",
    "                        'startIndex': 0,\n",
    "                        'endIndex': 1\n",
    "                    },\n",
    "                    'properties': {\n",
    "                        'pixelSize': 200  # Set the desired width in pixels\n",
    "                    },\n",
    "                    'fields': 'pixelSize'\n",
    "                }\n",
    "            }\n",
    "        ]\n",
    "    }\n",
    "    service.spreadsheets().batchUpdate(spreadsheetId=spreadsheet.id, body=request).execute()\n",
    "\n",
    "    if total_line > 1:\n",
    "        append_checkbox(creds, spreadsheet, worksheet, total_line)\n",
    "\n",
    "    print(\"Total name(s) added:\", num_added)"
   ]
  },
  {
   "cell_type": "code",
   "execution_count": null,
   "metadata": {},
   "outputs": [],
   "source": [
    "# Authenticate with Google Sheets API\n",
    "scope = [\"https://spreadsheets.google.com/feeds\",\n",
    "         \"https://www.googleapis.com/auth/drive\",\n",
    "         \"https://www.googleapis.com/auth/spreadsheets\"\n",
    "         ]\n",
    "creds = ServiceAccountCredentials.from_json_keyfile_name('credentials.json', scope)\n",
    "client = gspread.authorize(creds)\n",
    "\n",
    "# Define the folder ID where you want to save the Google Sheets file\n",
    "folder_id = os.getenv('GOOGLE_DRIVE_FOLDER_ID')\n",
    "# Define file name for the Google Sheets file\n",
    "file_name = os.getenv('GOOGLE_SHEET_FILE_NAME')\n",
    "\n",
    "# Get today's date and format it\n",
    "today_date = datetime.datetime.now().strftime(\"%Y-%m-%d\")"
   ]
  },
  {
   "cell_type": "code",
   "execution_count": null,
   "metadata": {},
   "outputs": [],
   "source": [
    "# Check if a file with the same name already exists\n",
    "file_exists = False\n",
    "for file in client.list_spreadsheet_files():\n",
    "    if file['name'] == file_name:\n",
    "        print(\"Same-name Google Sheet file already exists in the folder...\")\n",
    "        file_exists = True\n",
    "        spreadsheet = client.open(file_name)\n",
    "        break\n",
    "\n",
    "# If the file does not exist, create a new one and write sender data to it\n",
    "if not file_exists:\n",
    "    print(f'Creating a new Google Sheet file named \"{file_name}\"...')\n",
    "    spreadsheet = client.create(file_name, folder_id=folder_id)\n",
    "\n",
    "    # Rename the default worksheet ('Sheet1') with today's date\n",
    "    worksheet = spreadsheet.sheet1\n",
    "    worksheet.update_title(today_date)\n",
    "\n",
    "    append_data(sender_data, worksheet, spreadsheet, creds)\n",
    "\n",
    "else:\n",
    "    print(f'Creating a new worksheet in \"{file_name}\"...')\n",
    "    # Add a new worksheet with today's date as the title and write sender data to it\n",
    "    worksheet = spreadsheet.add_worksheet(title=\"3\", rows=\"100\", cols=\"20\")  # Create a new worksheet\n",
    "\n",
    "    append_data(sender_data, worksheet, spreadsheet, creds)\n"
   ]
  },
  {
   "cell_type": "markdown",
   "metadata": {},
   "source": [
    "There is a bug with Google Drive. Even though I have deleted the Google Sheet file from the Google Drive UI, it still shows up in this programming interface. So, I have to delete them using the programming interface to ensure that the file is deleted."
   ]
  },
  {
   "cell_type": "code",
   "execution_count": null,
   "metadata": {},
   "outputs": [],
   "source": [
    "response = client.list_spreadsheet_files()\n",
    "\n",
    "# Delete each spreadsheet file\n",
    "for file in response:\n",
    "    print(f\"Deleting file: {file['name']} ({file['id']})\")\n",
    "    client.del_spreadsheet(file['id'])"
   ]
  },
  {
   "cell_type": "code",
   "execution_count": null,
   "metadata": {},
   "outputs": [],
   "source": []
  }
 ],
 "metadata": {
  "kernelspec": {
   "display_name": "Python 3",
   "language": "python",
   "name": "python3"
  },
  "language_info": {
   "codemirror_mode": {
    "name": "ipython",
    "version": 3
   },
   "file_extension": ".py",
   "mimetype": "text/x-python",
   "name": "python",
   "nbconvert_exporter": "python",
   "pygments_lexer": "ipython3",
   "version": "3.10.13"
  }
 },
 "nbformat": 4,
 "nbformat_minor": 2
}
