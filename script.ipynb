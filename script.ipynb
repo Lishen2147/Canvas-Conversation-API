{
 "cells": [
  {
   "cell_type": "code",
   "execution_count": null,
   "metadata": {},
   "outputs": [],
   "source": [
    "# !pip3 install prompt_toolkit\n",
    "!pip3 install requests\n",
    "!pip3 install python-dotenv\n",
    "# !pip install gspread\n",
    "# !pip install oauth2client\n",
    "# !pip install google-auth\n",
    "# !pip install google-auth-oauthlib\n",
    "# !pip install google-auth-httplib2"
   ]
  },
  {
   "cell_type": "code",
   "execution_count": null,
   "metadata": {},
   "outputs": [],
   "source": [
    "# from google.colab import drive\n",
    "# drive.mount('/content/drive')"
   ]
  },
  {
   "cell_type": "code",
   "execution_count": null,
   "metadata": {},
   "outputs": [],
   "source": [
    "import os\n",
    "import csv\n",
    "import requests"
   ]
  },
  {
   "cell_type": "code",
   "execution_count": null,
   "metadata": {},
   "outputs": [],
   "source": [
    "load_dotenv('/content/.env')"
   ]
  },
  {
   "cell_type": "code",
   "execution_count": null,
   "metadata": {},
   "outputs": [],
   "source": [
    "# Replace with your Canvas API token\n",
    "access_token = os.getenv('CANVAS_ACCESS_TOKEN')\n",
    "base_url = os.getenv('CANVAS_BASE_UR')\n",
    "\n",
    "# Headers for authentication\n",
    "headers = {\n",
    "    'Authorization': f'Bearer {access_token}'\n",
    "}"
   ]
  },
  {
   "cell_type": "code",
   "execution_count": null,
   "metadata": {},
   "outputs": [],
   "source": [
    "# Get all conversations\n",
    "conversations_response = requests.get(f'{base_url}/conversations', headers=headers)\n",
    "conversations = conversations_response.json()"
   ]
  },
  {
   "cell_type": "code",
   "execution_count": null,
   "metadata": {},
   "outputs": [],
   "source": [
    "# List to store all messages with sender names\n",
    "messages_list = []\n",
    "\n",
    "# Get messages for each conversation and extract sender names and message bodies\n",
    "for conversation in conversations:\n",
    "    conversation_id = conversation['id']\n",
    "    messages_response = requests.get(f'{base_url}/conversations/{conversation_id}/messages', headers=headers)\n",
    "    messages = messages_response.json()\n",
    "    for message in messages:\n",
    "        sender_name = message['author']['name']\n",
    "        body = message['body']\n",
    "        messages_list.append([sender_name, body])"
   ]
  },
  {
   "cell_type": "code",
   "execution_count": null,
   "metadata": {},
   "outputs": [],
   "source": [
    "# Write to CSV file\n",
    "with open('canvas_messages.csv', mode='w', newline='', encoding='utf-8') as file:\n",
    "    writer = csv.writer(file)\n",
    "    writer.writerow(['Sender', 'Message Body'])\n",
    "    writer.writerows(messages_list)\n",
    "\n",
    "print(\"Messages have been written to canvas_messages.csv\")"
   ]
  },
  {
   "cell_type": "code",
   "execution_count": null,
   "metadata": {},
   "outputs": [],
   "source": [
    "# Google Sheets API setup\n",
    "scope = [\"https://spreadsheets.google.com/feeds\", 'https://www.googleapis.com/auth/spreadsheets',\n",
    "         \"https://www.googleapis.com/auth/drive.file\", \"https://www.googleapis.com/auth/drive\"]"
   ]
  },
  {
   "cell_type": "code",
   "execution_count": null,
   "metadata": {},
   "outputs": [],
   "source": [
    "# Authenticate and create the service\n",
    "creds = None\n",
    "if 'credentials.json' in os.listdir('/content/drive/My Drive/'):\n",
    "    creds = ServiceAccountCredentials.from_json_keyfile_name('/content/drive/My Drive/credentials.json', scope)\n",
    "else:\n",
    "    creds, _ = default()"
   ]
  },
  {
   "cell_type": "code",
   "execution_count": null,
   "metadata": {},
   "outputs": [],
   "source": [
    "client = gspread.authorize(creds)\n",
    "\n",
    "# Upload CSV to Google Drive and convert to Google Sheet\n",
    "spreadsheet = client.create('Canvas Messages')\n",
    "worksheet = spreadsheet.sheet1\n",
    "with open(csv_file_path, 'r', encoding='utf-8') as file:\n",
    "    content = file.read()\n",
    "client.import_csv(spreadsheet.id, content)\n",
    "\n",
    "print(f\"CSV file has been uploaded and converted to a Google Sheet: {spreadsheet.url}\")"
   ]
  }
 ],
 "metadata": {
  "kernelspec": {
   "display_name": "Python 3",
   "language": "python",
   "name": "python3"
  },
  "language_info": {
   "name": "python",
   "version": "3.10.12"
  }
 },
 "nbformat": 4,
 "nbformat_minor": 2
}
