{
 "cells": [
  {
   "cell_type": "code",
   "execution_count": 148,
   "metadata": {},
   "outputs": [],
   "source": [
    "# !pip3 install requests\n",
    "# !pip3 install python-dotenv\n",
    "# !pip3 install gspread\n",
    "# !pip3 install oauth2client\n",
    "# !pip3 install google-api-python-client"
   ]
  },
  {
   "cell_type": "code",
   "execution_count": 149,
   "metadata": {},
   "outputs": [],
   "source": [
    "import os\n",
    "import json\n",
    "import requests\n",
    "import gspread\n",
    "import datetime\n",
    "from oauth2client.service_account import ServiceAccountCredentials\n",
    "from googleapiclient.discovery import build\n",
    "from dotenv import load_dotenv"
   ]
  },
  {
   "cell_type": "code",
   "execution_count": 150,
   "metadata": {},
   "outputs": [
    {
     "data": {
      "text/plain": [
       "True"
      ]
     },
     "execution_count": 150,
     "metadata": {},
     "output_type": "execute_result"
    }
   ],
   "source": [
    "load_dotenv('.env')"
   ]
  },
  {
   "cell_type": "markdown",
   "metadata": {},
   "source": [
    "# Retrieve Canvas Inbox starred messages (conversations)"
   ]
  },
  {
   "cell_type": "code",
   "execution_count": 151,
   "metadata": {},
   "outputs": [],
   "source": [
    "# Replace with your Canvas API token\n",
    "access_token = os.getenv('CANVAS_ACCESS_TOKEN')\n",
    "base_url = os.getenv('CANVAS_BASE_URL')\n",
    "\n",
    "# Headers for authentication\n",
    "headers = {\n",
    "    'Authorization': f'Bearer {access_token}'\n",
    "}\n",
    "\n",
    "# Parameters to control pagination\n",
    "params = {\n",
    "    'per_page': 50  # Adjust this number as needed, up to the maximum allowed by the API\n",
    "}"
   ]
  },
  {
   "cell_type": "code",
   "execution_count": 152,
   "metadata": {},
   "outputs": [
    {
     "name": "stdout",
     "output_type": "stream",
     "text": [
      "Number of starred conversations:  38\n"
     ]
    }
   ],
   "source": [
    "conversations_response = requests.get(f'{base_url}/conversations', headers=headers, params=params)\n",
    "conversations = conversations_response.json()\n",
    "# print(json.dumps(conversations, indent=4))\n",
    "\n",
    "# List to store all messages with sender names\n",
    "sender_data = []\n",
    "\n",
    "# Get sender names from starred conversations and set status to False\n",
    "for conversation in conversations:\n",
    "    if conversation[\"starred\"]:\n",
    "        sender_id = conversation[\"participants\"][0][\"id\"]\n",
    "        sender_name = conversation[\"participants\"][0][\"name\"]\n",
    "        sender_data.append([sender_id, sender_name])  # Appending [sender_name, False] to sender_data\n",
    "\n",
    "print(\"Number of starred conversations: \", len(sender_data))\n",
    "# print(sender_data)  # Print sender data for testing"
   ]
  },
  {
   "cell_type": "markdown",
   "metadata": {},
   "source": [
    "# Save result into Google Sheet"
   ]
  },
  {
   "cell_type": "code",
   "execution_count": 153,
   "metadata": {},
   "outputs": [],
   "source": [
    "def append_checkbox(col, total_rows, creds=None, spreadsheet=None, worksheet=None):\n",
    "    service = build('sheets', 'v4', credentials=creds)\n",
    "    service.spreadsheets().batchUpdate(spreadsheetId=spreadsheet.id, body={\n",
    "        'requests': [\n",
    "            {\n",
    "                'repeatCell': {\n",
    "                    'cell': {\n",
    "                        'dataValidation': {\n",
    "                            'condition': {'type': 'BOOLEAN'},\n",
    "                            'showCustomUi': True\n",
    "                        }\n",
    "                    },\n",
    "                    'range': {\n",
    "                        'sheetId': worksheet.id,\n",
    "                        'startRowIndex': 1,  # Skip the header row\n",
    "                        'endRowIndex': total_rows + 1,\n",
    "                        'startColumnIndex': col,  # Column B\n",
    "                        'endColumnIndex': col + 1\n",
    "                    },\n",
    "                    'fields': 'dataValidation'\n",
    "                }\n",
    "            }\n",
    "        ]\n",
    "    }).execute()"
   ]
  },
  {
   "cell_type": "code",
   "execution_count": 154,
   "metadata": {},
   "outputs": [],
   "source": [
    "def change_col_width(col, wid, creds=None, worksheet=None, spreadsheet=None):\n",
    "    service = build('sheets', 'v4', credentials=creds)\n",
    "    service.spreadsheets().batchUpdate(spreadsheetId=spreadsheet.id, body = {\n",
    "        'requests': [\n",
    "            {\n",
    "                'updateDimensionProperties': {\n",
    "                    'range': {\n",
    "                        'sheetId': worksheet.id,\n",
    "                        'dimension': 'COLUMNS',\n",
    "                        'startIndex': col,\n",
    "                        'endIndex': col + 1\n",
    "                    },\n",
    "                    'properties': {\n",
    "                        'pixelSize': wid  # Set the desired width in pixels\n",
    "                    },\n",
    "                    'fields': 'pixelSize'\n",
    "                }\n",
    "            }\n",
    "        ]\n",
    "    }).execute()"
   ]
  },
  {
   "cell_type": "code",
   "execution_count": 155,
   "metadata": {},
   "outputs": [],
   "source": [
    "def append_data(sender_data, worksheet, spreadsheet, creds):\n",
    "    # Collect all existing sender data from all other worksheets\n",
    "    all_existing_senders = set()\n",
    "    for sheet in spreadsheet.worksheets():\n",
    "        if sheet.title != worksheet.title:\n",
    "            existing_data = sheet.get_all_values()\n",
    "            existing_senders = {row[0] for row in existing_data if row}  # Assuming sender ids are in the first column\n",
    "            all_existing_senders.update(existing_senders)\n",
    "\n",
    "    # Write column headers if the sheet is empty\n",
    "    if worksheet.get_all_values():\n",
    "        worksheet.append_row(['Sender ID', 'Sender Name'])\n",
    "\n",
    "    # Write sender data to the worksheet\n",
    "    num_breaker = 0\n",
    "    num_added = 0\n",
    "    total_line = 0\n",
    "    num_to_add = len(sender_data)\n",
    "    person_to_assign = 7\n",
    "    breaker_row = ['******* Finished my part? *******', '']\n",
    "\n",
    "    for sender in sender_data:\n",
    "        if str(sender[0]) not in all_existing_senders:\n",
    "            worksheet.append_row([sender[0], sender[1]])  # Writing sender data\n",
    "            print(\"Added\", sender[1])\n",
    "            num_added += 1\n",
    "            total_line += 1\n",
    "            # Add the breaker row after every 7 rows\n",
    "            if (person_to_assign > 0) and (num_added % round(num_to_add / person_to_assign)) == 0:\n",
    "                worksheet.append_row(breaker_row)\n",
    "                print(\"Added breaker row **********\")\n",
    "                num_to_add -= round(num_to_add / person_to_assign)\n",
    "                person_to_assign -= 1\n",
    "                num_breaker += 1\n",
    "                total_line += 1\n",
    "                num_added = 0 # Reset the counter for breaker row\n",
    "        else:\n",
    "            print(f\"Skipped {sender[1]} (already exists)\")\n",
    "            num_to_add -= 1\n",
    "\n",
    "    change_col_width(1, 200, creds, worksheet, spreadsheet)\n",
    "\n",
    "    worksheet.update_cell(1, 3, 'Replied?')\n",
    "    if total_line > 1:\n",
    "        append_checkbox(2, total_line, creds, spreadsheet, worksheet)\n",
    "\n",
    "    worksheet.update_cell(1, 4, 'Meta-Feedback Message')\n",
    "    change_col_width(3, 1000, creds, worksheet, spreadsheet)\n",
    "\n",
    "    print(\"Total breaker row(s) added:\", num_breaker)"
   ]
  },
  {
   "cell_type": "code",
   "execution_count": 156,
   "metadata": {},
   "outputs": [
    {
     "ename": "AttributeError",
     "evalue": "module 'datetime' has no attribute 'now'",
     "output_type": "error",
     "traceback": [
      "\u001b[0;31m---------------------------------------------------------------------------\u001b[0m",
      "\u001b[0;31mAttributeError\u001b[0m                            Traceback (most recent call last)",
      "Cell \u001b[0;32mIn[156], line 15\u001b[0m\n\u001b[1;32m     12\u001b[0m file_name \u001b[38;5;241m=\u001b[39m os\u001b[38;5;241m.\u001b[39mgetenv(\u001b[38;5;124m'\u001b[39m\u001b[38;5;124mGOOGLE_SHEET_FILE_NAME\u001b[39m\u001b[38;5;124m'\u001b[39m)\n\u001b[1;32m     14\u001b[0m \u001b[38;5;66;03m# Get the current date and time precise to the second and format it\u001b[39;00m\n\u001b[0;32m---> 15\u001b[0m today_date \u001b[38;5;241m=\u001b[39m \u001b[43mdatetime\u001b[49m\u001b[38;5;241;43m.\u001b[39;49m\u001b[43mnow\u001b[49m()\u001b[38;5;241m.\u001b[39mstrftime(\u001b[38;5;124m\"\u001b[39m\u001b[38;5;124m%\u001b[39m\u001b[38;5;124mY-\u001b[39m\u001b[38;5;124m%\u001b[39m\u001b[38;5;124mm-\u001b[39m\u001b[38;5;132;01m%d\u001b[39;00m\u001b[38;5;124m-\u001b[39m\u001b[38;5;124m%\u001b[39m\u001b[38;5;124mH-\u001b[39m\u001b[38;5;124m%\u001b[39m\u001b[38;5;124mM\u001b[39m\u001b[38;5;124m\"\u001b[39m)\n",
      "\u001b[0;31mAttributeError\u001b[0m: module 'datetime' has no attribute 'now'"
     ]
    }
   ],
   "source": [
    "# Authenticate with Google Sheets API\n",
    "scope = [\"https://spreadsheets.google.com/feeds\",\n",
    "         \"https://www.googleapis.com/auth/drive\",\n",
    "         \"https://www.googleapis.com/auth/spreadsheets\"\n",
    "         ]\n",
    "creds = ServiceAccountCredentials.from_json_keyfile_name('credentials.json', scope)\n",
    "client = gspread.authorize(creds)\n",
    "\n",
    "# Define the folder ID where you want to save the Google Sheets file\n",
    "folder_id = os.getenv('GOOGLE_DRIVE_FOLDER_ID')\n",
    "# Define file name for the Google Sheets file\n",
    "file_name = os.getenv('GOOGLE_SHEET_FILE_NAME')\n",
    "\n",
    "# Get the current date and time precise to the second and format it\n",
    "today_date = datetime.now().strftime(\"%Y-%m-%d-%H-%M\")"
   ]
  },
  {
   "cell_type": "code",
   "execution_count": null,
   "metadata": {},
   "outputs": [
    {
     "name": "stdout",
     "output_type": "stream",
     "text": [
      "Creating a new Google Sheet file named \"Peer Meta-Feedback List\"...\n",
      "Added Kris Wong\n",
      "Added Peter Yu\n",
      "Added Eileen Huynh\n",
      "Added Vivica Tran\n",
      "Added Alfredo Nieto\n",
      "Added breaker row **********\n",
      "Added Lakshitha Anand\n",
      "Added Haskell Macaraig\n",
      "Added Jassan Dhami\n",
      "Added Dominic Quintero\n",
      "Added Ameen Salim\n",
      "Added Stephen Donecker\n",
      "Added breaker row **********\n",
      "Added Jacky Liu\n",
      "Added Subhan Baig\n",
      "Added Sahil Khatri\n",
      "Added Henry Wong\n",
      "Added Haosen Cao\n",
      "Added breaker row **********\n",
      "Added Davin Nguyen\n",
      "Added Keith Low\n",
      "Added Yogesh Chaudhary\n",
      "Added Anuj Bhandari\n",
      "Added Yinghui Huang\n",
      "Added Armin Irvije\n",
      "Added breaker row **********\n",
      "Added Sean Mirahsani\n",
      "Added William Bradford\n",
      "Added Luis Bravo Bonilla\n",
      "Added Priyal Patel\n",
      "Added Foram Shah\n",
      "Added breaker row **********\n",
      "Added Foram Shah\n",
      "Added Ryan Yu\n",
      "Added Ronit Amar Bhatia\n",
      "Added Pavittar Singh\n",
      "Added Ayse Erel\n",
      "Added Maggie Chen\n",
      "Added breaker row **********\n",
      "Added Ian O'Connell\n",
      "Added James Xu\n",
      "Added Brendan Lin\n",
      "Added Jason Ma\n",
      "Added Williyam Yared\n",
      "Added breaker row **********\n",
      "Total breaker row(s) added: 7\n"
     ]
    }
   ],
   "source": [
    "# Check if a file with the same name already exists\n",
    "file_exists = False\n",
    "for file in client.list_spreadsheet_files():\n",
    "    if file['name'] == file_name:\n",
    "        print(\"Same-name Google Sheet file already exists in the folder...\")\n",
    "        file_exists = True\n",
    "        spreadsheet = client.open(file_name)\n",
    "        break\n",
    "\n",
    "# If the file does not exist, create a new one and write sender data to it\n",
    "if not file_exists:\n",
    "    print(f'Creating a new Google Sheet file named \"{file_name}\"...')\n",
    "    spreadsheet = client.create(file_name, folder_id=folder_id)\n",
    "\n",
    "    # Rename the default worksheet ('Sheet1') with today's date\n",
    "    worksheet = spreadsheet.sheet1\n",
    "    worksheet.update_title(today_date)\n",
    "\n",
    "    append_data(sender_data, worksheet, spreadsheet, creds)\n",
    "\n",
    "else:\n",
    "    print(f'Creating a new worksheet in \"{file_name}\"...')\n",
    "    # Add a new worksheet with today's date as the title and write sender data to it\n",
    "    worksheet = spreadsheet.add_worksheet(title=today_date, rows=\"100\", cols=\"20\")  # Create a new worksheet\n",
    "\n",
    "    append_data(sender_data, worksheet, spreadsheet, creds)\n"
   ]
  },
  {
   "cell_type": "markdown",
   "metadata": {},
   "source": [
    "There is a bug with Google Drive. Even though I have deleted the Google Sheet file from the Google Drive UI, it still shows up in this programming interface. So, I have to delete them using the programming interface to ensure that the file is deleted."
   ]
  },
  {
   "cell_type": "code",
   "execution_count": null,
   "metadata": {},
   "outputs": [
    {
     "name": "stdout",
     "output_type": "stream",
     "text": [
      "Deleting file: Peer Meta-Feedback List (1DgtfclfAeeBtJpioXctUCnm_ekXDP96BSe3tCUZa8-M)\n"
     ]
    }
   ],
   "source": [
    "response = client.list_spreadsheet_files()\n",
    "\n",
    "# Delete each spreadsheet file\n",
    "for file in response:\n",
    "    print(f\"Deleting file: {file['name']} ({file['id']})\")\n",
    "    client.del_spreadsheet(file['id'])"
   ]
  },
  {
   "cell_type": "code",
   "execution_count": null,
   "metadata": {},
   "outputs": [],
   "source": []
  }
 ],
 "metadata": {
  "kernelspec": {
   "display_name": "Python 3",
   "language": "python",
   "name": "python3"
  },
  "language_info": {
   "codemirror_mode": {
    "name": "ipython",
    "version": 3
   },
   "file_extension": ".py",
   "mimetype": "text/x-python",
   "name": "python",
   "nbconvert_exporter": "python",
   "pygments_lexer": "ipython3",
   "version": "3.10.13"
  }
 },
 "nbformat": 4,
 "nbformat_minor": 2
}
