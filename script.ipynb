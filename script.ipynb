{
 "cells": [
  {
   "cell_type": "code",
   "execution_count": 1,
   "metadata": {},
   "outputs": [],
   "source": [
    "# !pip3 install requests\n",
    "# !pip3 install python-dotenv\n",
    "# !pip install gspread\n",
    "# !pip install oauth2client\n",
    "# !pip install google-auth\n",
    "# !pip install google-auth-oauthlib\n",
    "# !pip install google-auth-httplib2"
   ]
  },
  {
   "cell_type": "code",
   "execution_count": 2,
   "metadata": {},
   "outputs": [],
   "source": [
    "import os\n",
    "import requests\n",
    "import gspread\n",
    "import datetime\n",
    "from oauth2client.service_account import ServiceAccountCredentials\n",
    "from dotenv import load_dotenv"
   ]
  },
  {
   "cell_type": "code",
   "execution_count": 3,
   "metadata": {},
   "outputs": [
    {
     "data": {
      "text/plain": [
       "True"
      ]
     },
     "execution_count": 3,
     "metadata": {},
     "output_type": "execute_result"
    }
   ],
   "source": [
    "load_dotenv('.env')"
   ]
  },
  {
   "cell_type": "code",
   "execution_count": 4,
   "metadata": {},
   "outputs": [],
   "source": [
    "# Replace with your Canvas API token\n",
    "access_token = os.getenv('CANVAS_ACCESS_TOKEN')\n",
    "base_url = os.getenv('CANVAS_BASE_URL')\n",
    "\n",
    "# Headers for authentication\n",
    "headers = {\n",
    "    'Authorization': f'Bearer {access_token}'\n",
    "}\n",
    "\n",
    "# Parameters to control pagination\n",
    "params = {\n",
    "    'per_page': 50  # Adjust this number as needed, up to the maximum allowed by the API\n",
    "}"
   ]
  },
  {
   "cell_type": "code",
   "execution_count": 5,
   "metadata": {},
   "outputs": [
    {
     "name": "stdout",
     "output_type": "stream",
     "text": [
      "[['Jacky Liu'], ['Subhan Baig']]\n"
     ]
    }
   ],
   "source": [
    "conversations_response = requests.get(f'{base_url}/conversations', headers=headers, params=params)\n",
    "conversations = conversations_response.json()\n",
    "\n",
    "# List to store all messages with sender names\n",
    "sender_data = []\n",
    "\n",
    "# Get sender names from starred conversations and set status to False\n",
    "for conversation in conversations:\n",
    "    if conversation[\"starred\"]:\n",
    "        sender_name = conversation[\"participants\"][0][\"name\"]\n",
    "        sender_data.append([sender_name])  # Appending [sender_name, False] to sender_data\n",
    "\n",
    "print(sender_data)  # Print sender data for testing"
   ]
  },
  {
   "cell_type": "code",
   "execution_count": 14,
   "metadata": {},
   "outputs": [
    {
     "name": "stdout",
     "output_type": "stream",
     "text": [
      "[{'id': '1OIzX5Tuep4Ro9tBttIpufQo7og201J45sO7k-V7er8M', 'name': 'Sender Data', 'createdTime': '2024-05-21T04:08:53.113Z', 'modifiedTime': '2024-05-21T04:08:58.638Z'}, {'id': '1qwtu2TORyO0OEYIpuNb9z_MOn6qge5o7LXnbzXoRMiQ', 'name': 'Sender Data', 'createdTime': '2024-05-21T04:07:32.852Z', 'modifiedTime': '2024-05-21T04:07:32.987Z'}, {'id': '1phWdD9wO3eOlha3gFb1J233Gk-zitV_ArjVvALXHgng', 'name': 'Sender Data', 'createdTime': '2024-05-21T04:06:27.105Z', 'modifiedTime': '2024-05-21T04:06:32.895Z'}, {'id': '1iNK2B8w4CyC04csALbq4sUyRIqPwQzELOcBwgDnOh4k', 'name': 'Sender Data', 'createdTime': '2024-05-21T04:06:01.899Z', 'modifiedTime': '2024-05-21T04:06:06.789Z'}, {'id': '1nUJcJ1s_Mi45upgcV8guznsDxdS77OnxRjx-_6OGmB0', 'name': 'Sender Data', 'createdTime': '2024-05-21T04:05:46.918Z', 'modifiedTime': '2024-05-21T04:05:50.100Z'}, {'id': '1-v85Y-64m8rSNcTNDmdEydaLdv5qqGVYWP2VojeLuPs', 'name': 'Sender Data', 'createdTime': '2024-05-21T04:04:18.180Z', 'modifiedTime': '2024-05-21T04:04:18.287Z'}, {'id': '18kWplCS7bsoEEo8Jjjb8Pq-LUQexbMbjJDlojkhQflI', 'name': 'Sender Data', 'createdTime': '2024-05-21T04:03:20.307Z', 'modifiedTime': '2024-05-21T04:03:20.412Z'}, {'id': '1-Jlwz90vwOsZJOWuQFnhqvpX2C9ZoWAjxG-tll5UZOA', 'name': 'Sender Data', 'createdTime': '2024-05-21T03:10:45.674Z', 'modifiedTime': '2024-05-21T04:01:15.063Z'}, {'id': '1qFwoxuPqPtQ-yI31t-H-pQQhAr3qoX1zNJpzmiKmo8k', 'name': 'Sender Data', 'createdTime': '2024-05-21T03:10:13.259Z', 'modifiedTime': '2024-05-21T03:10:16.797Z'}, {'id': '1N0GLbjbNvo_yji5LXIZ9tYDrhY2hpag2b8Juld6i5qM', 'name': 'Sender Data', 'createdTime': '2024-05-21T02:57:09.038Z', 'modifiedTime': '2024-05-21T03:05:49.671Z'}]\n"
     ]
    }
   ],
   "source": [
    "# Authenticate with Google Sheets API\n",
    "scope = [\"https://spreadsheets.google.com/feeds\", \"https://www.googleapis.com/auth/drive\", \"https://www.googleapis.com/auth/spreadsheets\"]\n",
    "creds = ServiceAccountCredentials.from_json_keyfile_name('credentials.json', scope)\n",
    "client = gspread.authorize(creds)\n",
    "\n",
    "# Define the folder ID where you want to save the Google Sheets file\n",
    "folder_id = os.getenv('GOOGLE_DRIVE_FOLDER_ID')\n",
    "# Define file name for the Google Sheets file\n",
    "file_name = 'Sender Data'\n",
    "\n",
    "response = client.list_spreadsheet_files()\n",
    "print(response)\n",
    "\n",
    "\n",
    "# # Check if a file with the same name already exists\n",
    "# file_exists = False\n",
    "# for file in client.list_spreadsheet_files():\n",
    "#     print(file['name'])\n",
    "#     if file['name'] == file_name:\n",
    "#         print(\"File already exists in the folder...\")\n",
    "#         file_exists = True\n",
    "#         spreadsheet = client.open(file_name)\n",
    "#         break\n",
    "\n",
    "# # Get today's date and format it\n",
    "# today_date = datetime.datetime.now().strftime(\"%Y-%m-%d\")\n",
    "\n",
    "# # If the file does not exist, create a new one and write sender data to it\n",
    "# if not file_exists:\n",
    "#     print('Creating a new file...')\n",
    "#     spreadsheet = client.create(file_name, folder_id=folder_id)\n",
    "\n",
    "#     # Rename the default worksheet ('Sheet1') with today's date\n",
    "#     worksheet = spreadsheet.sheet1\n",
    "#     # worksheet.update_title(today_date)\n",
    "#     worksheet.append_row(['Sender Name'])  # Writing column headers\n",
    "\n",
    "#     # Write sender data to the worksheet\n",
    "#     for sender in sender_data:\n",
    "#         worksheet.append_row(sender)  # Writing sender data\n",
    "\n",
    "# else:\n",
    "#     print('Creating a new worksheet...')\n",
    "#     # Add a new worksheet with today's date as the title and write sender data to it\n",
    "#     worksheet = spreadsheet.add_worksheet(title=today_date, rows=\"100\", cols=\"20\")  # Create a new worksheet\n",
    "#     worksheet.append_row(['Sender Name'])  # Writing column headers\n",
    "\n",
    "#     # Write sender data to the worksheet\n",
    "#     for sender in sender_data:\n",
    "#         worksheet.append_row(sender)  # Writing sender data"
   ]
  },
  {
   "cell_type": "code",
   "execution_count": null,
   "metadata": {},
   "outputs": [],
   "source": []
  }
 ],
 "metadata": {
  "kernelspec": {
   "display_name": "Python 3",
   "language": "python",
   "name": "python3"
  },
  "language_info": {
   "codemirror_mode": {
    "name": "ipython",
    "version": 3
   },
   "file_extension": ".py",
   "mimetype": "text/x-python",
   "name": "python",
   "nbconvert_exporter": "python",
   "pygments_lexer": "ipython3",
   "version": "3.10.13"
  }
 },
 "nbformat": 4,
 "nbformat_minor": 2
}
