{
 "cells": [
  {
   "cell_type": "code",
   "execution_count": null,
   "metadata": {},
   "outputs": [],
   "source": [
    "# !pip3 install requests\n",
    "# !pip3 install python-dotenv\n",
    "# !pip install gspread\n",
    "# !pip install oauth2client"
   ]
  },
  {
   "cell_type": "code",
   "execution_count": null,
   "metadata": {},
   "outputs": [],
   "source": [
    "import os\n",
    "import requests\n",
    "import gspread\n",
    "import datetime\n",
    "from oauth2client.service_account import ServiceAccountCredentials\n",
    "from dotenv import load_dotenv"
   ]
  },
  {
   "cell_type": "code",
   "execution_count": null,
   "metadata": {},
   "outputs": [],
   "source": [
    "load_dotenv('.env')"
   ]
  },
  {
   "cell_type": "code",
   "execution_count": null,
   "metadata": {},
   "outputs": [],
   "source": [
    "# Replace with your Canvas API token\n",
    "access_token = os.getenv('CANVAS_ACCESS_TOKEN')\n",
    "base_url = os.getenv('CANVAS_BASE_URL')\n",
    "\n",
    "# Headers for authentication\n",
    "headers = {\n",
    "    'Authorization': f'Bearer {access_token}'\n",
    "}\n",
    "\n",
    "# Parameters to control pagination\n",
    "params = {\n",
    "    'per_page': 50  # Adjust this number as needed, up to the maximum allowed by the API\n",
    "}"
   ]
  },
  {
   "cell_type": "code",
   "execution_count": null,
   "metadata": {},
   "outputs": [],
   "source": [
    "conversations_response = requests.get(f'{base_url}/conversations', headers=headers, params=params)\n",
    "conversations = conversations_response.json()\n",
    "\n",
    "# List to store all messages with sender names\n",
    "sender_data = []\n",
    "\n",
    "# Get sender names from starred conversations and set status to False\n",
    "for conversation in conversations:\n",
    "    if conversation[\"starred\"]:\n",
    "        sender_name = conversation[\"participants\"][0][\"name\"]\n",
    "        sender_data.append([sender_name])  # Appending [sender_name, False] to sender_data\n",
    "\n",
    "print(\"Number of starred conversations: \", len(sender_data))\n",
    "print(sender_data)  # Print sender data for testing"
   ]
  },
  {
   "cell_type": "code",
   "execution_count": null,
   "metadata": {},
   "outputs": [],
   "source": [
    "# Authenticate with Google Sheets API\n",
    "scope = [\"https://spreadsheets.google.com/feeds\", \"https://www.googleapis.com/auth/drive\", \"https://www.googleapis.com/auth/spreadsheets\"]\n",
    "creds = ServiceAccountCredentials.from_json_keyfile_name('credentials.json', scope)\n",
    "client = gspread.authorize(creds)\n",
    "\n",
    "# Define the folder ID where you want to save the Google Sheets file\n",
    "folder_id = os.getenv('GOOGLE_DRIVE_FOLDER_ID')\n",
    "# Define file name for the Google Sheets file\n",
    "file_name = 'Peer Feedback List'\n",
    "\n",
    "\n",
    "# Check if a file with the same name already exists\n",
    "file_exists = False\n",
    "for file in client.list_spreadsheet_files():\n",
    "    if file['name'] == file_name:\n",
    "        print(\"Same-name Google Sheet file already exists in the folder...\")\n",
    "        file_exists = True\n",
    "        spreadsheet = client.open(file_name)\n",
    "        break\n",
    "\n",
    "# Get today's date and format it\n",
    "today_date = datetime.datetime.now().strftime(\"%Y-%m-%d\")\n",
    "\n",
    "# If the file does not exist, create a new one and write sender data to it\n",
    "if not file_exists:\n",
    "    print('Creating a new Google Sheet file...')\n",
    "    spreadsheet = client.create(file_name, folder_id=folder_id)\n",
    "\n",
    "    # Rename the default worksheet ('Sheet1') with today's date\n",
    "    worksheet = spreadsheet.sheet1\n",
    "    worksheet.update_title(today_date)\n",
    "    worksheet.append_row(['Sender Name'])  # Writing column headers\n",
    "\n",
    "    # Write sender data to the worksheet\n",
    "    i = 0\n",
    "    for sender in sender_data:\n",
    "        worksheet.append_row(sender)  # Writing sender data\n",
    "        print(\"Added\", sender[0])\n",
    "        i += 1\n",
    "    print(\"Total added:\", i)\n",
    "\n",
    "else:\n",
    "    print(f'Creating a new worksheet in \"{file_name}\"...')\n",
    "    # Add a new worksheet with today's date as the title and write sender data to it\n",
    "    worksheet = spreadsheet.add_worksheet(title=today_date, rows=\"100\", cols=\"20\")  # Create a new worksheet\n",
    "    worksheet.append_row(['Sender Name'])  # Writing column headers\n",
    "\n",
    "    # Write sender data to the worksheet\n",
    "    j = 0\n",
    "    for sender in sender_data:\n",
    "        # Check if the sender data already exists in sheet1\n",
    "        if sender not in spreadsheet.sheet1.get_all_values():\n",
    "            worksheet.append_row(sender)  # Writing sender data\n",
    "            print(\"Added\", sender[0])\n",
    "            j += 1\n",
    "    print(\"Total added:\", j)"
   ]
  },
  {
   "cell_type": "markdown",
   "metadata": {},
   "source": [
    "There is a bug with Google Drive. Even though I have deleted the Google Sheet file from the Google Drive UI, it still shows up in this programming interface. So, I have to delete them using the programming interface to ensure that the file is deleted."
   ]
  },
  {
   "cell_type": "code",
   "execution_count": null,
   "metadata": {},
   "outputs": [],
   "source": [
    "response = client.list_spreadsheet_files()\n",
    "\n",
    "# Delete each spreadsheet file\n",
    "for file in response:\n",
    "    print(f\"Deleting file: {file['name']} ({file['id']})\")\n",
    "    client.del_spreadsheet(file['id'])"
   ]
  },
  {
   "cell_type": "code",
   "execution_count": null,
   "metadata": {},
   "outputs": [],
   "source": []
  }
 ],
 "metadata": {
  "kernelspec": {
   "display_name": "Python 3",
   "language": "python",
   "name": "python3"
  },
  "language_info": {
   "codemirror_mode": {
    "name": "ipython",
    "version": 3
   },
   "file_extension": ".py",
   "mimetype": "text/x-python",
   "name": "python",
   "nbconvert_exporter": "python",
   "pygments_lexer": "ipython3",
   "version": "3.10.13"
  }
 },
 "nbformat": 4,
 "nbformat_minor": 2
}
